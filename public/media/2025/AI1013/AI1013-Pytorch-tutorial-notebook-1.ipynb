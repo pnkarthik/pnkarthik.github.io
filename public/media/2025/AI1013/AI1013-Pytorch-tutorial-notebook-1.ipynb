{
  "nbformat": 4,
  "nbformat_minor": 0,
  "metadata": {
    "colab": {
      "provenance": []
    },
    "kernelspec": {
      "name": "python3",
      "display_name": "Python 3"
    },
    "language_info": {
      "name": "python"
    },
    "accelerator": "GPU"
  },
  "cells": [
    {
      "cell_type": "code",
      "metadata": {
        "id": "57pDEzRgaBKE"
      },
      "source": [
        "import torch\n",
        "# imports pytorch"
      ],
      "execution_count": null,
      "outputs": []
    },
    {
      "cell_type": "code",
      "metadata": {
        "id": "FUtG608-FDZv"
      },
      "source": [
        "import numpy as np\n",
        "# imports numpy"
      ],
      "execution_count": null,
      "outputs": []
    },
    {
      "cell_type": "markdown",
      "metadata": {
        "id": "XIb5cEoK-RNr"
      },
      "source": [
        "**Simple Tensor Operations**"
      ]
    },
    {
      "cell_type": "code",
      "metadata": {
        "id": "mU3m_vCi19J-",
        "colab": {
          "base_uri": "https://localhost:8080/"
        },
        "outputId": "0e83a41f-120f-4db9-fb53-d5b258e8d6cd"
      },
      "source": [
        "a = torch.empty(3,4)\n",
        "a.size()\n",
        "a\n",
        "# creates an empty tensor of shape (3,4)"
      ],
      "execution_count": null,
      "outputs": [
        {
          "output_type": "execute_result",
          "data": {
            "text/plain": [
              "tensor([[2.3822e-44, 4.4182e-41, 0.0000e+00, 0.0000e+00],\n",
              "        [3.3631e-44, 4.4182e-41, 1.3739e-38, 0.0000e+00],\n",
              "        [1.4013e-45, 4.4182e-41, 5.1749e-33, 4.4182e-41]])"
            ]
          },
          "metadata": {},
          "execution_count": 3
        }
      ]
    },
    {
      "cell_type": "code",
      "metadata": {
        "colab": {
          "base_uri": "https://localhost:8080/"
        },
        "id": "0NczjR7m2Pp7",
        "outputId": "902798f3-6402-41e1-c79b-4a733a4c0a67"
      },
      "source": [
        "a.fill_(3.14)\n",
        "# inplace operations are suffixed with an underscore\n",
        "# fills all the elements of tensor a with 3.14"
      ],
      "execution_count": null,
      "outputs": [
        {
          "output_type": "execute_result",
          "data": {
            "text/plain": [
              "tensor([[3.1400, 3.1400, 3.1400, 3.1400],\n",
              "        [3.1400, 3.1400, 3.1400, 3.1400],\n",
              "        [3.1400, 3.1400, 3.1400, 3.1400]])"
            ]
          },
          "metadata": {},
          "execution_count": 4
        }
      ]
    },
    {
      "cell_type": "code",
      "metadata": {
        "colab": {
          "base_uri": "https://localhost:8080/"
        },
        "id": "OdKhkh7Z2Tyw",
        "outputId": "e667e47f-f7fa-4dad-a930-404f3a094d87"
      },
      "source": [
        "a.mean()\n",
        "# computes the average of the tensor a\n",
        "# even a single element of a tensor is a tensor (0D)"
      ],
      "execution_count": null,
      "outputs": [
        {
          "output_type": "execute_result",
          "data": {
            "text/plain": [
              "tensor(3.1400)"
            ]
          },
          "metadata": {},
          "execution_count": 5
        }
      ]
    },
    {
      "cell_type": "code",
      "metadata": {
        "colab": {
          "base_uri": "https://localhost:8080/"
        },
        "id": "zLJhgJ3W9VFx",
        "outputId": "db1540a5-c337-4058-8e7d-3606ba1711ce"
      },
      "source": [
        "a[1,2]\n",
        "# even a single element of a tensor is a tensor (0D)"
      ],
      "execution_count": null,
      "outputs": [
        {
          "output_type": "execute_result",
          "data": {
            "text/plain": [
              "tensor(3.1400)"
            ]
          },
          "metadata": {},
          "execution_count": 6
        }
      ]
    },
    {
      "cell_type": "code",
      "metadata": {
        "colab": {
          "base_uri": "https://localhost:8080/"
        },
        "id": "WGn5qlY12Wrj",
        "outputId": "34081e1d-d275-49e4-8357-b7a1b820148a"
      },
      "source": [
        "a.std()\n",
        "# returns the standard deviation of elements in tensor a"
      ],
      "execution_count": null,
      "outputs": [
        {
          "output_type": "execute_result",
          "data": {
            "text/plain": [
              "tensor(4.9804e-07)"
            ]
          },
          "metadata": {},
          "execution_count": 7
        }
      ]
    },
    {
      "cell_type": "code",
      "metadata": {
        "colab": {
          "base_uri": "https://localhost:8080/"
        },
        "id": "djBLi1nf2Yj_",
        "outputId": "886eea03-48ab-44b1-c86e-2adf8c0b42e0"
      },
      "source": [
        "a.sum()\n",
        "# returns the sum of elements in tensor a"
      ],
      "execution_count": null,
      "outputs": [
        {
          "output_type": "execute_result",
          "data": {
            "text/plain": [
              "tensor(37.6800)"
            ]
          },
          "metadata": {},
          "execution_count": 8
        }
      ]
    },
    {
      "cell_type": "code",
      "metadata": {
        "colab": {
          "base_uri": "https://localhost:8080/"
        },
        "id": "1qifyczQ2cis",
        "outputId": "eb6ecb60-6557-4037-cf04-59e86824d4af"
      },
      "source": [
        "a.sum().item()\n",
        "# to convert a 0D tensor into a Python scalar, item() is used"
      ],
      "execution_count": null,
      "outputs": [
        {
          "output_type": "execute_result",
          "data": {
            "text/plain": [
              "37.679996490478516"
            ]
          },
          "metadata": {},
          "execution_count": 9
        }
      ]
    },
    {
      "cell_type": "code",
      "source": [
        "b = torch.randint(0, 10, (3, 3))\n",
        "b\n",
        "# Random integers between 0 and 9"
      ],
      "metadata": {
        "colab": {
          "base_uri": "https://localhost:8080/"
        },
        "id": "G6tp4_PvlrZj",
        "outputId": "a9de810f-bbf8-4875-fae8-acbe270f4d49"
      },
      "execution_count": null,
      "outputs": [
        {
          "output_type": "execute_result",
          "data": {
            "text/plain": [
              "tensor([[1, 1, 7],\n",
              "        [5, 3, 6],\n",
              "        [0, 0, 6]])"
            ]
          },
          "metadata": {},
          "execution_count": 10
        }
      ]
    },
    {
      "cell_type": "code",
      "source": [],
      "metadata": {
        "id": "g9cKQFK-shKE"
      },
      "execution_count": null,
      "outputs": []
    },
    {
      "cell_type": "code",
      "source": [
        "b = torch.randn(5, 10)\n",
        "b\n",
        "# Random values from a normal distribution (mean=0, std=1)"
      ],
      "metadata": {
        "colab": {
          "base_uri": "https://localhost:8080/"
        },
        "id": "YzI09UUOkcbP",
        "outputId": "8a897564-94bf-4801-9fac-99f21d59f75b"
      },
      "execution_count": null,
      "outputs": [
        {
          "output_type": "execute_result",
          "data": {
            "text/plain": [
              "tensor([[ 1.1528,  0.3063,  0.1983,  0.5385,  0.6547, -1.1175,  0.7949,  1.2248,\n",
              "          0.4897, -0.3720],\n",
              "        [ 0.8460, -0.8868,  1.5620,  2.8107, -0.2721,  1.7704,  1.1516,  0.6803,\n",
              "         -0.0589, -0.9159],\n",
              "        [-1.0242, -1.6443,  0.2699,  0.4544,  0.2495, -0.1583,  1.8618, -1.4824,\n",
              "         -0.8515,  1.5297],\n",
              "        [ 1.5095, -0.1405,  1.8925, -0.7567, -0.0495,  0.5960, -0.6705, -0.7421,\n",
              "          1.8881, -1.0480],\n",
              "        [-0.0196,  0.7002, -0.9930, -0.6535, -0.2605, -0.7249,  0.7740,  1.1029,\n",
              "         -0.8934, -1.3175]])"
            ]
          },
          "metadata": {},
          "execution_count": 11
        }
      ]
    },
    {
      "cell_type": "code",
      "source": [
        "print(b.mean().item(), b.std().item())"
      ],
      "metadata": {
        "colab": {
          "base_uri": "https://localhost:8080/"
        },
        "id": "FS3GpX_8kxjH",
        "outputId": "52dc0c14-9233-4446-de30-433f76589628"
      },
      "execution_count": null,
      "outputs": [
        {
          "output_type": "stream",
          "name": "stdout",
          "text": [
            "0.19911064207553864 1.0479155778884888\n"
          ]
        }
      ]
    },
    {
      "cell_type": "markdown",
      "metadata": {
        "id": "WqvHLXmW-a3k"
      },
      "source": [
        "**Vector/matrix Operations**"
      ]
    },
    {
      "cell_type": "code",
      "metadata": {
        "colab": {
          "base_uri": "https://localhost:8080/"
        },
        "id": "cO88Wy8B-en3",
        "outputId": "454d2462-c25a-4c85-8051-db85554de43e"
      },
      "source": [
        "x = torch.tensor([1.0, 3.0, 5.0])\n",
        "y = torch.tensor([2.0, 4.0, 6.0])\n",
        "x+y"
      ],
      "execution_count": null,
      "outputs": [
        {
          "output_type": "execute_result",
          "data": {
            "text/plain": [
              "tensor([ 3.,  7., 11.])"
            ]
          },
          "metadata": {},
          "execution_count": 13
        }
      ]
    },
    {
      "cell_type": "code",
      "metadata": {
        "colab": {
          "base_uri": "https://localhost:8080/"
        },
        "id": "XM_7SIngPhLD",
        "outputId": "266d02a2-da97-411f-b01b-819e80e2d597"
      },
      "source": [
        "x*y\n",
        "# hadamard product"
      ],
      "execution_count": null,
      "outputs": [
        {
          "output_type": "execute_result",
          "data": {
            "text/plain": [
              "tensor([ 2., 12., 30.])"
            ]
          },
          "metadata": {},
          "execution_count": 14
        }
      ]
    },
    {
      "cell_type": "code",
      "metadata": {
        "colab": {
          "base_uri": "https://localhost:8080/"
        },
        "id": "I_NHJq2HPinj",
        "outputId": "3a3beef8-fa56-436f-c4ed-d629cf0db6cf"
      },
      "source": [
        "x**2\n",
        "# exponentiation"
      ],
      "execution_count": null,
      "outputs": [
        {
          "output_type": "execute_result",
          "data": {
            "text/plain": [
              "tensor([ 1.,  9., 25.])"
            ]
          },
          "metadata": {},
          "execution_count": 15
        }
      ]
    },
    {
      "cell_type": "code",
      "source": [
        "x**y\n",
        "# element-wise exponentiation"
      ],
      "metadata": {
        "colab": {
          "base_uri": "https://localhost:8080/"
        },
        "id": "Neyrr-le0B2f",
        "outputId": "dae513e3-4b71-413b-f539-b695b31c5574"
      },
      "execution_count": null,
      "outputs": [
        {
          "output_type": "execute_result",
          "data": {
            "text/plain": [
              "tensor([1.0000e+00, 8.1000e+01, 1.5625e+04])"
            ]
          },
          "metadata": {},
          "execution_count": 16
        }
      ]
    },
    {
      "cell_type": "code",
      "metadata": {
        "id": "qndQmKRXPua7"
      },
      "source": [
        "m=torch.tensor([[1.0, 0.0, 0.0],[0.0, 2.0, 0.0],[0.0, 0.0, 3.0]])\n",
        "# matrix (2D tensor) intialization"
      ],
      "execution_count": null,
      "outputs": []
    },
    {
      "cell_type": "code",
      "metadata": {
        "colab": {
          "base_uri": "https://localhost:8080/"
        },
        "id": "Vf9CeAfMP8ZI",
        "outputId": "37e80fc4-7428-4a37-97c5-0c31d86983c5"
      },
      "source": [
        "m.mv(x)\n",
        "# matrix-vector product"
      ],
      "execution_count": null,
      "outputs": [
        {
          "output_type": "execute_result",
          "data": {
            "text/plain": [
              "tensor([ 1.,  6., 15.])"
            ]
          },
          "metadata": {},
          "execution_count": 18
        }
      ]
    },
    {
      "cell_type": "code",
      "metadata": {
        "colab": {
          "base_uri": "https://localhost:8080/"
        },
        "id": "gkCD5BpGQGON",
        "outputId": "16fe510d-e60d-41c0-d1f6-391ab66adeec"
      },
      "source": [
        "m@x\n",
        "# another form for the matrix-vector product"
      ],
      "execution_count": null,
      "outputs": [
        {
          "output_type": "execute_result",
          "data": {
            "text/plain": [
              "tensor([ 1.,  6., 15.])"
            ]
          },
          "metadata": {},
          "execution_count": 19
        }
      ]
    },
    {
      "cell_type": "markdown",
      "metadata": {
        "id": "quf4Gm9QQSRI"
      },
      "source": [
        "**Slicing is similar to Numpy**"
      ]
    },
    {
      "cell_type": "code",
      "metadata": {
        "colab": {
          "base_uri": "https://localhost:8080/"
        },
        "id": "qtc00gpYQLUg",
        "outputId": "23fcf8a6-4496-4a41-adf1-dc6985cd007c"
      },
      "source": [
        "a=torch.empty(2,5).random_(10)\n",
        "a\n",
        "# initialize the tensor with random integers below 10"
      ],
      "execution_count": null,
      "outputs": [
        {
          "output_type": "execute_result",
          "data": {
            "text/plain": [
              "tensor([[0., 8., 0., 1., 4.],\n",
              "        [5., 4., 3., 5., 4.]])"
            ]
          },
          "metadata": {},
          "execution_count": 20
        }
      ]
    },
    {
      "cell_type": "code",
      "metadata": {
        "colab": {
          "base_uri": "https://localhost:8080/"
        },
        "id": "yaK1arSeQkCD",
        "outputId": "b5b9e21d-5c46-4397-daaf-5402c151efae"
      },
      "source": [
        "a[0]"
      ],
      "execution_count": null,
      "outputs": [
        {
          "output_type": "execute_result",
          "data": {
            "text/plain": [
              "tensor([0., 8., 0., 1., 4.])"
            ]
          },
          "metadata": {},
          "execution_count": 21
        }
      ]
    },
    {
      "cell_type": "code",
      "metadata": {
        "colab": {
          "base_uri": "https://localhost:8080/"
        },
        "id": "qFQ3epaoQoIU",
        "outputId": "060bd231-c7fe-4bab-ae1b-375d26689feb"
      },
      "source": [
        "a[1]"
      ],
      "execution_count": null,
      "outputs": [
        {
          "output_type": "execute_result",
          "data": {
            "text/plain": [
              "tensor([5., 4., 3., 5., 4.])"
            ]
          },
          "metadata": {},
          "execution_count": 22
        }
      ]
    },
    {
      "cell_type": "code",
      "metadata": {
        "colab": {
          "base_uri": "https://localhost:8080/"
        },
        "id": "eQP8JuXwQu9i",
        "outputId": "07fc7643-d6e2-472b-c3f1-6b1420234bbb"
      },
      "source": [
        "a[:,3:]\n",
        "# slicing the tensor with a range"
      ],
      "execution_count": null,
      "outputs": [
        {
          "output_type": "execute_result",
          "data": {
            "text/plain": [
              "tensor([[1., 4.],\n",
              "        [5., 4.]])"
            ]
          },
          "metadata": {},
          "execution_count": 23
        }
      ]
    },
    {
      "cell_type": "code",
      "metadata": {
        "colab": {
          "base_uri": "https://localhost:8080/"
        },
        "id": "4aVFWiH6Q3pF",
        "outputId": "c067494e-9c6f-4099-9528-602dce594e21"
      },
      "source": [
        "a[:,1:3:2] = -1.0\n",
        "a"
      ],
      "execution_count": null,
      "outputs": [
        {
          "output_type": "execute_result",
          "data": {
            "text/plain": [
              "tensor([[ 0., -1.,  0.,  1.,  4.],\n",
              "        [ 5., -1.,  3.,  5.,  4.]])"
            ]
          },
          "metadata": {},
          "execution_count": 24
        }
      ]
    },
    {
      "cell_type": "code",
      "source": [
        "# Original tensor `a`\n",
        "print(\"Tensor `a`:\")\n",
        "print(a)\n",
        "\n",
        "# Cloning `a` into `b`\n",
        "b = a.clone()\n",
        "print(\"\\nCloned Tensor `b` (before modification):\")\n",
        "print(b)\n",
        "\n",
        "# Modifying `b` with Boolean indexing\n",
        "b[b < 3] = -1\n",
        "print(\"\\nModified Tensor `b` (values < 3 replaced with -1):\")\n",
        "print(b)\n",
        "\n",
        "# Checking if `a` remains unchanged\n",
        "print(\"\\nTensor `a` after modifying `b` (unchanged):\")\n",
        "print(a)"
      ],
      "metadata": {
        "colab": {
          "base_uri": "https://localhost:8080/"
        },
        "id": "1ESLlyb10_Vu",
        "outputId": "88b1afe3-a00d-448d-b9c2-684ddaf57804"
      },
      "execution_count": null,
      "outputs": [
        {
          "output_type": "stream",
          "name": "stdout",
          "text": [
            "Tensor `a`:\n",
            "tensor([[ 0., -1.,  0.,  1.,  4.],\n",
            "        [ 5., -1.,  3.,  5.,  4.]])\n",
            "\n",
            "Cloned Tensor `b` (before modification):\n",
            "tensor([[ 0., -1.,  0.,  1.,  4.],\n",
            "        [ 5., -1.,  3.,  5.,  4.]])\n",
            "\n",
            "Modified Tensor `b` (values < 3 replaced with -1):\n",
            "tensor([[-1., -1., -1., -1.,  4.],\n",
            "        [ 5., -1.,  3.,  5.,  4.]])\n",
            "\n",
            "Tensor `a` after modifying `b` (unchanged):\n",
            "tensor([[ 0., -1.,  0.,  1.,  4.],\n",
            "        [ 5., -1.,  3.,  5.,  4.]])\n"
          ]
        }
      ]
    },
    {
      "cell_type": "code",
      "source": [
        "# Demonstrating assignment (reference) for comparison\n",
        "c = a\n",
        "c[c > 2] = 10\n",
        "print(\"\\nAssigned Tensor `c` (values > 2 replaced with 10):\")\n",
        "print(c)\n",
        "\n",
        "# Checking if `a` changes with `c`\n",
        "print(\"\\nTensor `a` after modifying `c` (changed due to reference):\")\n",
        "print(a)\n"
      ],
      "metadata": {
        "colab": {
          "base_uri": "https://localhost:8080/"
        },
        "id": "itO-I0AOtE5f",
        "outputId": "80b60ab0-cc16-4ab2-a6ff-a5cfcd48e5d1"
      },
      "execution_count": null,
      "outputs": [
        {
          "output_type": "stream",
          "name": "stdout",
          "text": [
            "\n",
            "Assigned Tensor `c` (values > 2 replaced with 10):\n",
            "tensor([[ 0., -1.,  0.,  1., 10.],\n",
            "        [10., -1., 10., 10., 10.]])\n",
            "\n",
            "Tensor `a` after modifying `c` (changed due to reference):\n",
            "tensor([[ 0., -1.,  0.,  1., 10.],\n",
            "        [10., -1., 10., 10., 10.]])\n"
          ]
        }
      ]
    },
    {
      "cell_type": "markdown",
      "metadata": {
        "id": "4FeT5QuJXkFp"
      },
      "source": [
        "**High demnsional tensors**"
      ]
    },
    {
      "cell_type": "code",
      "metadata": {
        "colab": {
          "base_uri": "https://localhost:8080/"
        },
        "id": "fNop6-rkXnaQ",
        "outputId": "afbe4f99-b736-4f26-9273-71f23a930c41"
      },
      "source": [
        "za = torch.zeros(1,3)\n",
        "za.dtype, za.device\n",
        "# default tensor is float32 type stored in CPU memory"
      ],
      "execution_count": null,
      "outputs": [
        {
          "output_type": "execute_result",
          "data": {
            "text/plain": [
              "(torch.float32, device(type='cpu'))"
            ]
          },
          "metadata": {},
          "execution_count": 27
        }
      ]
    },
    {
      "cell_type": "code",
      "source": [
        "za"
      ],
      "metadata": {
        "colab": {
          "base_uri": "https://localhost:8080/"
        },
        "id": "NC8y7682vyE2",
        "outputId": "ada5650d-acf7-4dec-be62-5eed867b34e6"
      },
      "execution_count": null,
      "outputs": [
        {
          "output_type": "execute_result",
          "data": {
            "text/plain": [
              "tensor([[0., 0., 0.]])"
            ]
          },
          "metadata": {},
          "execution_count": 28
        }
      ]
    },
    {
      "cell_type": "code",
      "metadata": {
        "colab": {
          "base_uri": "https://localhost:8080/"
        },
        "id": "tDHGf9vMYJFK",
        "outputId": "5012fb8d-8b0c-485c-c306-9f0c5e19d407"
      },
      "source": [
        "# za=za.to(torch.float64)\n",
        "za=za.long()\n",
        "za.dtype, za.device"
      ],
      "execution_count": null,
      "outputs": [
        {
          "output_type": "execute_result",
          "data": {
            "text/plain": [
              "(torch.int64, device(type='cpu'))"
            ]
          },
          "metadata": {},
          "execution_count": 29
        }
      ]
    },
    {
      "cell_type": "code",
      "metadata": {
        "id": "XlMhf8KqY-sD",
        "colab": {
          "base_uri": "https://localhost:8080/"
        },
        "outputId": "b3d6654d-3b0f-4aec-8c29-a401560fcd1c"
      },
      "source": [
        "if torch.cuda.is_available():\n",
        "  device = torch.device(\"cuda\")\n",
        "\n",
        "  za = za.to(device)\n",
        "za.dtype, za.device"
      ],
      "execution_count": null,
      "outputs": [
        {
          "output_type": "execute_result",
          "data": {
            "text/plain": [
              "(torch.int64, device(type='cuda', index=0))"
            ]
          },
          "metadata": {},
          "execution_count": 30
        }
      ]
    },
    {
      "cell_type": "code",
      "metadata": {
        "id": "qntaTbnCcYLK",
        "colab": {
          "base_uri": "https://localhost:8080/"
        },
        "outputId": "2e301761-cb97-4c4d-8540-cf04500cd775"
      },
      "source": [
        "x=torch.tensor([[1, 2., 3],\n",
        "                [4, 5, 6]])\n",
        "x"
      ],
      "execution_count": null,
      "outputs": [
        {
          "output_type": "execute_result",
          "data": {
            "text/plain": [
              "tensor([[1., 2., 3.],\n",
              "        [4., 5., 6.]])"
            ]
          },
          "metadata": {},
          "execution_count": 31
        }
      ]
    },
    {
      "cell_type": "code",
      "metadata": {
        "id": "aHqvGrkicgNa",
        "colab": {
          "base_uri": "https://localhost:8080/"
        },
        "outputId": "cbf65b0b-9e58-4d06-949c-1fc053bde286"
      },
      "source": [
        "x.t()\n",
        "# x.T\n",
        "# transposing a tensor"
      ],
      "execution_count": null,
      "outputs": [
        {
          "output_type": "execute_result",
          "data": {
            "text/plain": [
              "tensor([[1., 4.],\n",
              "        [2., 5.],\n",
              "        [3., 6.]])"
            ]
          },
          "metadata": {},
          "execution_count": 32
        }
      ]
    },
    {
      "cell_type": "code",
      "metadata": {
        "id": "7C7uJLHedCXK",
        "colab": {
          "base_uri": "https://localhost:8080/"
        },
        "outputId": "f155f928-610f-49e7-a6f7-e43cb310dd08"
      },
      "source": [
        "x.view(-1)\n",
        "# reduce/reshape the tensor into a single dimensional (1D) tensor\n",
        "# in the raster-scan order (rows first then columns)"
      ],
      "execution_count": null,
      "outputs": [
        {
          "output_type": "execute_result",
          "data": {
            "text/plain": [
              "tensor([1., 2., 3., 4., 5., 6.])"
            ]
          },
          "metadata": {},
          "execution_count": 33
        }
      ]
    },
    {
      "cell_type": "code",
      "source": [
        "x=torch.tensor([[1, 2., 3],\n",
        "                [4, 5, 6],\n",
        "                [7, 8., 9],\n",
        "                [10, 11, 12]])\n",
        "x"
      ],
      "metadata": {
        "colab": {
          "base_uri": "https://localhost:8080/"
        },
        "id": "Xf1l3AECy3ba",
        "outputId": "38b80a35-6318-486e-d6bf-a8c4b4c48f37"
      },
      "execution_count": null,
      "outputs": [
        {
          "output_type": "execute_result",
          "data": {
            "text/plain": [
              "tensor([[ 1.,  2.,  3.],\n",
              "        [ 4.,  5.,  6.],\n",
              "        [ 7.,  8.,  9.],\n",
              "        [10., 11., 12.]])"
            ]
          },
          "metadata": {},
          "execution_count": 34
        }
      ]
    },
    {
      "cell_type": "code",
      "metadata": {
        "id": "fOEisciwdcuR",
        "colab": {
          "base_uri": "https://localhost:8080/"
        },
        "outputId": "9ad2865c-4d8c-464a-fc72-7a134382feb8"
      },
      "source": [
        "x.view(3,-1)\n",
        "# reshape into a tensor with 3 rows and whatever is the resulting columns\n",
        "# in the raster-scan order"
      ],
      "execution_count": null,
      "outputs": [
        {
          "output_type": "execute_result",
          "data": {
            "text/plain": [
              "tensor([[ 1.,  2.,  3.,  4.],\n",
              "        [ 5.,  6.,  7.,  8.],\n",
              "        [ 9., 10., 11., 12.]])"
            ]
          },
          "metadata": {},
          "execution_count": 35
        }
      ]
    },
    {
      "cell_type": "markdown",
      "metadata": {
        "id": "Tx1atG86bwBR"
      },
      "source": [
        "**Pytorch is an immense library of tensor operations. Visit documentation for a better idea and practice more to familiarize the important operations.**\n"
      ]
    },
    {
      "cell_type": "markdown",
      "metadata": {
        "id": "jc3p3QFLiB1T"
      },
      "source": [
        "**For efficiency reasons, different tensors share the same data, therefore need to be careful when modifying. By default, do not assume that two tensors refer to different data in memory**"
      ]
    },
    {
      "cell_type": "code",
      "metadata": {
        "id": "5dCTYo5BiZd8",
        "colab": {
          "base_uri": "https://localhost:8080/"
        },
        "outputId": "807c4b71-26b3-4495-893f-322d402df7c2"
      },
      "source": [
        "a = torch.full((2,5),2)\n",
        "a"
      ],
      "execution_count": null,
      "outputs": [
        {
          "output_type": "execute_result",
          "data": {
            "text/plain": [
              "tensor([[2, 2, 2, 2, 2],\n",
              "        [2, 2, 2, 2, 2]])"
            ]
          },
          "metadata": {},
          "execution_count": 36
        }
      ]
    },
    {
      "cell_type": "code",
      "metadata": {
        "id": "fWrJavQiiAXq",
        "colab": {
          "base_uri": "https://localhost:8080/"
        },
        "outputId": "8f1b26c4-5a8e-4779-c231-05f3fad30a19"
      },
      "source": [
        "b=a.view(-1)\n",
        "b"
      ],
      "execution_count": null,
      "outputs": [
        {
          "output_type": "execute_result",
          "data": {
            "text/plain": [
              "tensor([2, 2, 2, 2, 2, 2, 2, 2, 2, 2])"
            ]
          },
          "metadata": {},
          "execution_count": 37
        }
      ]
    },
    {
      "cell_type": "code",
      "metadata": {
        "id": "Hl_uiQEii7ez",
        "colab": {
          "base_uri": "https://localhost:8080/"
        },
        "outputId": "bfbe6cf1-2d6c-4b3c-b00a-ece487f9566d"
      },
      "source": [
        "a[1,4]=10\n",
        "a"
      ],
      "execution_count": null,
      "outputs": [
        {
          "output_type": "execute_result",
          "data": {
            "text/plain": [
              "tensor([[ 2,  2,  2,  2,  2],\n",
              "        [ 2,  2,  2,  2, 10]])"
            ]
          },
          "metadata": {},
          "execution_count": 38
        }
      ]
    },
    {
      "cell_type": "code",
      "metadata": {
        "id": "SRLUF7Swi-v1",
        "colab": {
          "base_uri": "https://localhost:8080/"
        },
        "outputId": "03130314-8ecb-4e72-e473-c2e2344df838"
      },
      "source": [
        "print(b)\n",
        "b[1] = 9\n",
        "print(b)"
      ],
      "execution_count": null,
      "outputs": [
        {
          "output_type": "stream",
          "name": "stdout",
          "text": [
            "tensor([ 2,  2,  2,  2,  2,  2,  2,  2,  2, 10])\n",
            "tensor([ 2,  9,  2,  2,  2,  2,  2,  2,  2, 10])\n"
          ]
        }
      ]
    },
    {
      "cell_type": "code",
      "metadata": {
        "id": "eTqOFQOcjEI4",
        "colab": {
          "base_uri": "https://localhost:8080/"
        },
        "outputId": "e0ff8604-9290-4e35-866e-5dff1ad160b2"
      },
      "source": [
        "a\n",
        "# b shares the same memory as a, meaning changes to one will reflect in the other"
      ],
      "execution_count": null,
      "outputs": [
        {
          "output_type": "execute_result",
          "data": {
            "text/plain": [
              "tensor([[ 2,  9,  2,  2,  2],\n",
              "        [ 2,  2,  2,  2, 10]])"
            ]
          },
          "metadata": {},
          "execution_count": 40
        }
      ]
    },
    {
      "cell_type": "markdown",
      "metadata": {
        "id": "Ou-Agr0Rla2m"
      },
      "source": [
        "**Broadcasting and Einstein Summations**"
      ]
    },
    {
      "cell_type": "code",
      "metadata": {
        "id": "RgcOw9UzlfYQ",
        "colab": {
          "base_uri": "https://localhost:8080/"
        },
        "outputId": "5bbb88fb-8382-4a77-f7ab-c95b14c65366"
      },
      "source": [
        "# Broadcasting automatically expands the dimensions by replicating coefficients (when required)\n",
        "x = torch.empty(100,3).normal_(3)\n",
        "x.mean(0)"
      ],
      "execution_count": null,
      "outputs": [
        {
          "output_type": "execute_result",
          "data": {
            "text/plain": [
              "tensor([3.0955, 3.0641, 2.8406])"
            ]
          },
          "metadata": {},
          "execution_count": 41
        }
      ]
    },
    {
      "cell_type": "code",
      "metadata": {
        "id": "GLJnGuVlmSKw",
        "colab": {
          "base_uri": "https://localhost:8080/"
        },
        "outputId": "b21f06b8-2d95-4ef6-f4e7-069129d4a4f7"
      },
      "source": [
        "x -= x.mean(0)\n",
        "# we subtract 1 X 3 tensor from 100 X 3 tensor; it should result in an error, but it works!\n",
        "\n",
        "x.mean(0)"
      ],
      "execution_count": null,
      "outputs": [
        {
          "output_type": "execute_result",
          "data": {
            "text/plain": [
              "tensor([-1.0014e-07, -3.3379e-08,  2.3365e-07])"
            ]
          },
          "metadata": {},
          "execution_count": 42
        }
      ]
    },
    {
      "cell_type": "code",
      "metadata": {
        "id": "sBSond9sncri",
        "colab": {
          "base_uri": "https://localhost:8080/"
        },
        "outputId": "69faa4e4-74ec-4361-8d9d-fb4a567c2963"
      },
      "source": [
        "A = torch.tensor([[1.],[2.],[3.],[4.],[5.]])\n",
        "B = torch.tensor([[5., -5., 5., -5., 5.]])\n",
        "print(A.shape,B.shape)\n",
        "A+B"
      ],
      "execution_count": null,
      "outputs": [
        {
          "output_type": "stream",
          "name": "stdout",
          "text": [
            "torch.Size([5, 1]) torch.Size([1, 5])\n"
          ]
        },
        {
          "output_type": "execute_result",
          "data": {
            "text/plain": [
              "tensor([[ 6., -4.,  6., -4.,  6.],\n",
              "        [ 7., -3.,  7., -3.,  7.],\n",
              "        [ 8., -2.,  8., -2.,  8.],\n",
              "        [ 9., -1.,  9., -1.,  9.],\n",
              "        [10.,  0., 10.,  0., 10.]])"
            ]
          },
          "metadata": {},
          "execution_count": 43
        }
      ]
    },
    {
      "cell_type": "markdown",
      "metadata": {
        "id": "9fDZes_wpG7x"
      },
      "source": [
        "**Einsten Summation Convention**\n",
        "\n",
        "Provides a concise way of describing dimension re-ordering, summing component wise products along some of them.\n",
        "\n",
        "we can use for matrix multiplication, matrix-vector product, diagonal extraction, Hadamard product, batch matrix product, etc."
      ]
    },
    {
      "cell_type": "code",
      "metadata": {
        "id": "I4gVdfHEnukE",
        "colab": {
          "base_uri": "https://localhost:8080/"
        },
        "outputId": "3c7a936c-a974-433b-c7d0-7beccc24633e"
      },
      "source": [
        "A = torch.rand(2,5)\n",
        "B = torch.rand(5,4)\n",
        "torch.einsum('ij,jk->ik',A,B)"
      ],
      "execution_count": null,
      "outputs": [
        {
          "output_type": "execute_result",
          "data": {
            "text/plain": [
              "tensor([[1.8589, 1.6150, 1.0845, 1.9010],\n",
              "        [1.7351, 1.6737, 1.2860, 2.0597]])"
            ]
          },
          "metadata": {},
          "execution_count": 44
        }
      ]
    },
    {
      "cell_type": "code",
      "metadata": {
        "id": "rWV_ISBuptwV",
        "colab": {
          "base_uri": "https://localhost:8080/"
        },
        "outputId": "87d591a3-3fac-425b-9ba9-5c0a974c8f83"
      },
      "source": [
        "A@B"
      ],
      "execution_count": null,
      "outputs": [
        {
          "output_type": "execute_result",
          "data": {
            "text/plain": [
              "tensor([[1.8589, 1.6150, 1.0845, 1.9010],\n",
              "        [1.7351, 1.6737, 1.2860, 2.0597]])"
            ]
          },
          "metadata": {},
          "execution_count": 45
        }
      ]
    },
    {
      "cell_type": "markdown",
      "source": [
        "Documentation: [PyTorch](https://pytorch.org/docs/stable/index.html)"
      ],
      "metadata": {
        "id": "CzX0mSDvFaIL"
      }
    },
    {
      "cell_type": "markdown",
      "source": [
        "This tutorial was designed by Susmit Agarwal (ai22mtech12002@iith.ac.in) under the guidance of Dr. Konda Reddy Mopuri.\n",
        "\n",
        "\n",
        "Updated by Siddharth Shrivastava"
      ],
      "metadata": {
        "id": "Ogtx1fTpkLJt"
      }
    },
    {
      "cell_type": "code",
      "source": [],
      "metadata": {
        "id": "UQySanIykaCJ"
      },
      "execution_count": null,
      "outputs": []
    }
  ]
}