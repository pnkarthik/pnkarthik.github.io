{
  "nbformat": 4,
  "nbformat_minor": 0,
  "metadata": {
    "colab": {
      "provenance": [],
      "gpuType": "T4"
    },
    "kernelspec": {
      "name": "python3",
      "display_name": "Python 3"
    },
    "language_info": {
      "name": "python"
    },
    "accelerator": "GPU"
  },
  "cells": [
    {
      "cell_type": "code",
      "metadata": {
        "id": "Wu1Zf_2TQMv5"
      },
      "source": [
        "import torch"
      ],
      "execution_count": null,
      "outputs": []
    },
    {
      "cell_type": "code",
      "metadata": {
        "id": "YXQt2J_eQSRW"
      },
      "source": [
        "a = torch.tensor([1., 2., 3.])\n",
        "b = torch.tensor([10., 20., 30.])\n",
        "c= torch. tensor([100., 200., 300.])"
      ],
      "execution_count": null,
      "outputs": []
    },
    {
      "cell_type": "code",
      "metadata": {
        "colab": {
          "base_uri": "https://localhost:8080/"
        },
        "id": "E69AlNjJQoDW",
        "outputId": "453845dd-84aa-4bce-dbb5-f21d01a5da87"
      },
      "source": [
        "a.requires_grad\n",
        "# requires_grad is a Boolean field for every tensor; Default it is set to False, i.e. tensor does not need the gradients"
      ],
      "execution_count": null,
      "outputs": [
        {
          "output_type": "execute_result",
          "data": {
            "text/plain": [
              "False"
            ]
          },
          "metadata": {},
          "execution_count": 3
        }
      ]
    },
    {
      "cell_type": "code",
      "metadata": {
        "colab": {
          "base_uri": "https://localhost:8080/"
        },
        "id": "dHTZ_ewCQtZ_",
        "outputId": "605397a9-da8b-4e52-f023-bcc93d6030a0"
      },
      "source": [
        "(a+c).requires_grad\n",
        "# result also does not need gradients, unless if there is at least one tensor that requires gradient"
      ],
      "execution_count": null,
      "outputs": [
        {
          "output_type": "execute_result",
          "data": {
            "text/plain": [
              "False"
            ]
          },
          "metadata": {},
          "execution_count": 4
        }
      ]
    },
    {
      "cell_type": "code",
      "metadata": {
        "colab": {
          "base_uri": "https://localhost:8080/"
        },
        "id": "tCg7FREORXU_",
        "outputId": "fbf23800-06d1-40b9-d04a-1f3fdc68a6e4"
      },
      "source": [
        "c.requires_grad = True\n",
        "# Enabling the tensor to compute gradients\n",
        "c.requires_grad"
      ],
      "execution_count": null,
      "outputs": [
        {
          "output_type": "execute_result",
          "data": {
            "text/plain": [
              "True"
            ]
          },
          "metadata": {},
          "execution_count": 5
        }
      ]
    },
    {
      "cell_type": "code",
      "metadata": {
        "colab": {
          "base_uri": "https://localhost:8080/"
        },
        "id": "bqmiAhVdbS9s",
        "outputId": "d51bb725-24b9-4683-e652-6638684ce46c"
      },
      "source": [
        "b.requires_grad_()\n",
        "# default value set by this function is True"
      ],
      "execution_count": null,
      "outputs": [
        {
          "output_type": "execute_result",
          "data": {
            "text/plain": [
              "tensor([10., 20., 30.], requires_grad=True)"
            ]
          },
          "metadata": {},
          "execution_count": 6
        }
      ]
    },
    {
      "cell_type": "code",
      "metadata": {
        "colab": {
          "base_uri": "https://localhost:8080/"
        },
        "id": "xqUbTZlDRjp9",
        "outputId": "5790e6ec-5947-48d1-ee65-40d43dd191e0"
      },
      "source": [
        "(a+c).requires_grad"
      ],
      "execution_count": null,
      "outputs": [
        {
          "output_type": "execute_result",
          "data": {
            "text/plain": [
              "True"
            ]
          },
          "metadata": {},
          "execution_count": 7
        }
      ]
    },
    {
      "cell_type": "code",
      "metadata": {
        "colab": {
          "base_uri": "https://localhost:8080/"
        },
        "id": "JVJQUqaNSgy5",
        "outputId": "4bc593e3-4e33-44c8-da9d-2e8bbceeb680"
      },
      "source": [
        "# let's use autograd(o/p, i/p)\n",
        "a.requires_grad = True\n",
        "b.requires_grad = True\n",
        "d = a.pow(2).sum() + b.log().sum()\n",
        "torch.autograd.grad(d,(a,b))"
      ],
      "execution_count": null,
      "outputs": [
        {
          "output_type": "execute_result",
          "data": {
            "text/plain": [
              "(tensor([2., 4., 6.]), tensor([0.1000, 0.0500, 0.0333]))"
            ]
          },
          "metadata": {},
          "execution_count": 7
        }
      ]
    },
    {
      "cell_type": "code",
      "metadata": {
        "colab": {
          "base_uri": "https://localhost:8080/"
        },
        "id": "d4jX7dLvUFna",
        "outputId": "fae042f0-287d-4123-8a9d-8d88fd124cab"
      },
      "source": [
        "f = a.pow(2).sum() + b.log().sum()\n",
        "g = a.pow(2).sum() + b.log().sum()\n",
        "torch.autograd.grad([f,g],a,retain_graph=True)\n",
        "# if o/p is a tuple, the result is the sum of the gradients of its elements."
      ],
      "execution_count": null,
      "outputs": [
        {
          "output_type": "execute_result",
          "data": {
            "text/plain": [
              "(tensor([ 4.,  8., 12.]),)"
            ]
          },
          "metadata": {},
          "execution_count": 8
        }
      ]
    },
    {
      "cell_type": "code",
      "metadata": {
        "colab": {
          "base_uri": "https://localhost:8080/"
        },
        "id": "65KqmEv671Lw",
        "outputId": "7f4fa331-df22-46e3-d109-283fd781fd85"
      },
      "source": [
        "torch.autograd.grad([f,g],a)"
      ],
      "execution_count": null,
      "outputs": [
        {
          "output_type": "execute_result",
          "data": {
            "text/plain": [
              "(tensor([ 4.,  8., 12.]),)"
            ]
          },
          "metadata": {},
          "execution_count": 9
        }
      ]
    },
    {
      "cell_type": "markdown",
      "metadata": {
        "id": "bv8nyhvfYM6W"
      },
      "source": [
        "Tensor.backward() accumulates the gradient of the leaf nodes in the graph. \\\\\n",
        "Tensor.grad field will accumulate these gradients"
      ]
    },
    {
      "cell_type": "code",
      "metadata": {
        "colab": {
          "base_uri": "https://localhost:8080/"
        },
        "id": "TWXlKMfPYiR9",
        "outputId": "71bf7df5-a933-4f89-9bf4-0929058d2646"
      },
      "source": [
        "h = a.pow(2).sum() + b.log().sum()\n",
        "print('before backpropagating')\n",
        "print(a.grad)\n",
        "print(b.grad)\n",
        "h.backward()\n",
        "print('after backpropagating')\n",
        "print(a.grad)\n",
        "print(b.grad)"
      ],
      "execution_count": null,
      "outputs": [
        {
          "output_type": "stream",
          "name": "stdout",
          "text": [
            "before backpropagating\n",
            "None\n",
            "None\n",
            "after backpropagating\n",
            "tensor([2., 4., 6.])\n",
            "tensor([0.1000, 0.0500, 0.0333])\n"
          ]
        }
      ]
    },
    {
      "cell_type": "code",
      "source": [
        "h.backward()\n",
        "print('after backpropagating twice')\n",
        "print(a.grad)\n",
        "print(b.grad)"
      ],
      "metadata": {
        "colab": {
          "base_uri": "https://localhost:8080/",
          "height": 367
        },
        "id": "Lh1G6mUIOzW-",
        "outputId": "3f27eb92-3c7e-4c75-c5b9-059310dda5bc"
      },
      "execution_count": null,
      "outputs": [
        {
          "output_type": "error",
          "ename": "RuntimeError",
          "evalue": "Trying to backward through the graph a second time (or directly access saved tensors after they have already been freed). Saved intermediate values of the graph are freed when you call .backward() or autograd.grad(). Specify retain_graph=True if you need to backward through the graph a second time or if you need to access saved tensors after calling backward.",
          "traceback": [
            "\u001b[0;31m---------------------------------------------------------------------------\u001b[0m",
            "\u001b[0;31mRuntimeError\u001b[0m                              Traceback (most recent call last)",
            "\u001b[0;32m<ipython-input-11-2731f945d21f>\u001b[0m in \u001b[0;36m<cell line: 0>\u001b[0;34m()\u001b[0m\n\u001b[0;32m----> 1\u001b[0;31m \u001b[0mh\u001b[0m\u001b[0;34m.\u001b[0m\u001b[0mbackward\u001b[0m\u001b[0;34m(\u001b[0m\u001b[0;34m)\u001b[0m\u001b[0;34m\u001b[0m\u001b[0;34m\u001b[0m\u001b[0m\n\u001b[0m\u001b[1;32m      2\u001b[0m \u001b[0mprint\u001b[0m\u001b[0;34m(\u001b[0m\u001b[0;34m'after backpropagating twice'\u001b[0m\u001b[0;34m)\u001b[0m\u001b[0;34m\u001b[0m\u001b[0;34m\u001b[0m\u001b[0m\n\u001b[1;32m      3\u001b[0m \u001b[0mprint\u001b[0m\u001b[0;34m(\u001b[0m\u001b[0ma\u001b[0m\u001b[0;34m.\u001b[0m\u001b[0mgrad\u001b[0m\u001b[0;34m)\u001b[0m\u001b[0;34m\u001b[0m\u001b[0;34m\u001b[0m\u001b[0m\n\u001b[1;32m      4\u001b[0m \u001b[0mprint\u001b[0m\u001b[0;34m(\u001b[0m\u001b[0mb\u001b[0m\u001b[0;34m.\u001b[0m\u001b[0mgrad\u001b[0m\u001b[0;34m)\u001b[0m\u001b[0;34m\u001b[0m\u001b[0;34m\u001b[0m\u001b[0m\n",
            "\u001b[0;32m/usr/local/lib/python3.11/dist-packages/torch/_tensor.py\u001b[0m in \u001b[0;36mbackward\u001b[0;34m(self, gradient, retain_graph, create_graph, inputs)\u001b[0m\n\u001b[1;32m    579\u001b[0m                 \u001b[0minputs\u001b[0m\u001b[0;34m=\u001b[0m\u001b[0minputs\u001b[0m\u001b[0;34m,\u001b[0m\u001b[0;34m\u001b[0m\u001b[0;34m\u001b[0m\u001b[0m\n\u001b[1;32m    580\u001b[0m             )\n\u001b[0;32m--> 581\u001b[0;31m         torch.autograd.backward(\n\u001b[0m\u001b[1;32m    582\u001b[0m             \u001b[0mself\u001b[0m\u001b[0;34m,\u001b[0m \u001b[0mgradient\u001b[0m\u001b[0;34m,\u001b[0m \u001b[0mretain_graph\u001b[0m\u001b[0;34m,\u001b[0m \u001b[0mcreate_graph\u001b[0m\u001b[0;34m,\u001b[0m \u001b[0minputs\u001b[0m\u001b[0;34m=\u001b[0m\u001b[0minputs\u001b[0m\u001b[0;34m\u001b[0m\u001b[0;34m\u001b[0m\u001b[0m\n\u001b[1;32m    583\u001b[0m         )\n",
            "\u001b[0;32m/usr/local/lib/python3.11/dist-packages/torch/autograd/__init__.py\u001b[0m in \u001b[0;36mbackward\u001b[0;34m(tensors, grad_tensors, retain_graph, create_graph, grad_variables, inputs)\u001b[0m\n\u001b[1;32m    345\u001b[0m     \u001b[0;31m# some Python versions print out the first line of a multi-line function\u001b[0m\u001b[0;34m\u001b[0m\u001b[0;34m\u001b[0m\u001b[0m\n\u001b[1;32m    346\u001b[0m     \u001b[0;31m# calls in the traceback and some print out the last line\u001b[0m\u001b[0;34m\u001b[0m\u001b[0;34m\u001b[0m\u001b[0m\n\u001b[0;32m--> 347\u001b[0;31m     _engine_run_backward(\n\u001b[0m\u001b[1;32m    348\u001b[0m         \u001b[0mtensors\u001b[0m\u001b[0;34m,\u001b[0m\u001b[0;34m\u001b[0m\u001b[0;34m\u001b[0m\u001b[0m\n\u001b[1;32m    349\u001b[0m         \u001b[0mgrad_tensors_\u001b[0m\u001b[0;34m,\u001b[0m\u001b[0;34m\u001b[0m\u001b[0;34m\u001b[0m\u001b[0m\n",
            "\u001b[0;32m/usr/local/lib/python3.11/dist-packages/torch/autograd/graph.py\u001b[0m in \u001b[0;36m_engine_run_backward\u001b[0;34m(t_outputs, *args, **kwargs)\u001b[0m\n\u001b[1;32m    823\u001b[0m         \u001b[0munregister_hooks\u001b[0m \u001b[0;34m=\u001b[0m \u001b[0m_register_logging_hooks_on_whole_graph\u001b[0m\u001b[0;34m(\u001b[0m\u001b[0mt_outputs\u001b[0m\u001b[0;34m)\u001b[0m\u001b[0;34m\u001b[0m\u001b[0;34m\u001b[0m\u001b[0m\n\u001b[1;32m    824\u001b[0m     \u001b[0;32mtry\u001b[0m\u001b[0;34m:\u001b[0m\u001b[0;34m\u001b[0m\u001b[0;34m\u001b[0m\u001b[0m\n\u001b[0;32m--> 825\u001b[0;31m         return Variable._execution_engine.run_backward(  # Calls into the C++ engine to run the backward pass\n\u001b[0m\u001b[1;32m    826\u001b[0m             \u001b[0mt_outputs\u001b[0m\u001b[0;34m,\u001b[0m \u001b[0;34m*\u001b[0m\u001b[0margs\u001b[0m\u001b[0;34m,\u001b[0m \u001b[0;34m**\u001b[0m\u001b[0mkwargs\u001b[0m\u001b[0;34m\u001b[0m\u001b[0;34m\u001b[0m\u001b[0m\n\u001b[1;32m    827\u001b[0m         )  # Calls into the C++ engine to run the backward pass\n",
            "\u001b[0;31mRuntimeError\u001b[0m: Trying to backward through the graph a second time (or directly access saved tensors after they have already been freed). Saved intermediate values of the graph are freed when you call .backward() or autograd.grad(). Specify retain_graph=True if you need to backward through the graph a second time or if you need to access saved tensors after calling backward."
          ]
        }
      ]
    },
    {
      "cell_type": "code",
      "source": [
        "h = a.pow(2).sum() + b.log().sum()\n",
        "print('before backpropagating')\n",
        "print(a.grad)\n",
        "print(b.grad)\n",
        "h.backward(retain_graph=True)\n",
        "print('after backpropagating')\n",
        "print(a.grad)\n",
        "print(b.grad)\n",
        "h.backward(retain_graph=True)\n",
        "print('after backpropagating second time')\n",
        "print(a.grad)\n",
        "print(b.grad)"
      ],
      "metadata": {
        "colab": {
          "base_uri": "https://localhost:8080/"
        },
        "id": "OYUPeGvRO3AY",
        "outputId": "8fd65a00-acda-4fd8-f5ba-9616ac083a97"
      },
      "execution_count": null,
      "outputs": [
        {
          "output_type": "stream",
          "name": "stdout",
          "text": [
            "before backpropagating\n",
            "tensor([2., 4., 6.])\n",
            "tensor([0.1000, 0.0500, 0.0333])\n",
            "after backpropagating\n",
            "tensor([ 4.,  8., 12.])\n",
            "tensor([0.2000, 0.1000, 0.0667])\n",
            "after backpropagating second time\n",
            "tensor([ 6., 12., 18.])\n",
            "tensor([0.3000, 0.1500, 0.1000])\n"
          ]
        }
      ]
    },
    {
      "cell_type": "code",
      "source": [
        "# Higher order derivatives\n",
        "# Gradients are also represented as tensors!\n",
        "# Gradient computation is not included as part of the graph by default.\n",
        "# The create_graph argument includes gradient computation as part of the graph,\n",
        "# allowing  computation of higher order derivatives.\n",
        "print(a)\n",
        "h = a.pow(2).sum() + b.log().sum()\n",
        "print(h)\n",
        "first_derivative = torch.autograd.grad(h, a, create_graph=True)[0]\n",
        "# We now have dloss/dx\n",
        "second_derivative = torch.autograd.grad(first_derivative.mean(), a)[0]\n",
        "\n",
        "print(first_derivative)\n",
        "print(second_derivative)\n",
        "\n",
        "# Note that using .backward() for higher order derivatives is discouraged because the .grad field becomes hard to reason about.\n",
        "# In theory, derivatives of any order can be computed in this way"
      ],
      "metadata": {
        "colab": {
          "base_uri": "https://localhost:8080/"
        },
        "id": "G4Q5DkXTPDul",
        "outputId": "ad3cf0f8-59f0-46ad-8ff3-ea74244f3bd7"
      },
      "execution_count": null,
      "outputs": [
        {
          "output_type": "stream",
          "name": "stdout",
          "text": [
            "tensor([1., 2., 3.], requires_grad=True)\n",
            "tensor(22.6995, grad_fn=<AddBackward0>)\n",
            "tensor([2., 4., 6.], grad_fn=<MulBackward0>)\n",
            "tensor([0.6667, 0.6667, 0.6667])\n"
          ]
        }
      ]
    },
    {
      "cell_type": "code",
      "metadata": {
        "colab": {
          "base_uri": "https://localhost:8080/"
        },
        "id": "lfUJ8wedYpHA",
        "outputId": "f43a35cc-e851-47ce-8df4-053c9180f79d"
      },
      "source": [
        "# sample module that uses autograd and GD\n",
        "a = torch.tensor( 1.0).requires_grad_()\n",
        "b = torch.tensor(-1.).requires_grad_()\n",
        "eta = 0.1\n",
        "for k in range(20):\n",
        "  l = (a - 1.0)**2 + (b + 1.0)**2 + (a - b)**2\n",
        "  ga, gb = torch.autograd.grad(l, (a, b)) # ga = 2(a-1) + 2(a-b), gb = 2(b + 1) - 2(a - b)\n",
        "  with torch.no_grad():\n",
        "    a -= eta * ga\n",
        "    b -= eta * gb\n",
        "  print('iteration %d: loss = %.4f \\t a = %.3f \\t b = %.3f, '%(k,l.item(),a.item(), b.item()))"
      ],
      "execution_count": null,
      "outputs": [
        {
          "output_type": "stream",
          "name": "stdout",
          "text": [
            "iteration 0: loss = 4.0000 \t a = 0.200 \t b = -0.200, \n",
            "iteration 1: loss = 1.4400 \t a = 0.360 \t b = -0.360, \n",
            "iteration 2: loss = 1.3376 \t a = 0.328 \t b = -0.328, \n",
            "iteration 3: loss = 1.3335 \t a = 0.334 \t b = -0.334, \n",
            "iteration 4: loss = 1.3333 \t a = 0.333 \t b = -0.333, \n",
            "iteration 5: loss = 1.3333 \t a = 0.333 \t b = -0.333, \n",
            "iteration 6: loss = 1.3333 \t a = 0.333 \t b = -0.333, \n",
            "iteration 7: loss = 1.3333 \t a = 0.333 \t b = -0.333, \n",
            "iteration 8: loss = 1.3333 \t a = 0.333 \t b = -0.333, \n",
            "iteration 9: loss = 1.3333 \t a = 0.333 \t b = -0.333, \n",
            "iteration 10: loss = 1.3333 \t a = 0.333 \t b = -0.333, \n",
            "iteration 11: loss = 1.3333 \t a = 0.333 \t b = -0.333, \n",
            "iteration 12: loss = 1.3333 \t a = 0.333 \t b = -0.333, \n",
            "iteration 13: loss = 1.3333 \t a = 0.333 \t b = -0.333, \n",
            "iteration 14: loss = 1.3333 \t a = 0.333 \t b = -0.333, \n",
            "iteration 15: loss = 1.3333 \t a = 0.333 \t b = -0.333, \n",
            "iteration 16: loss = 1.3333 \t a = 0.333 \t b = -0.333, \n",
            "iteration 17: loss = 1.3333 \t a = 0.333 \t b = -0.333, \n",
            "iteration 18: loss = 1.3333 \t a = 0.333 \t b = -0.333, \n",
            "iteration 19: loss = 1.3333 \t a = 0.333 \t b = -0.333, \n"
          ]
        }
      ]
    },
    {
      "cell_type": "markdown",
      "metadata": {
        "id": "yUgjS0wZL3_z"
      },
      "source": [
        "**Putting it all together** \\\\\n",
        "Let's train an MLP on MNIST dataset"
      ]
    },
    {
      "cell_type": "code",
      "metadata": {
        "id": "79hwlKChL1su"
      },
      "source": [
        "# Import the necessary\n",
        "from torchvision import datasets\n",
        "import torchvision.transforms as transforms"
      ],
      "execution_count": null,
      "outputs": []
    },
    {
      "cell_type": "code",
      "metadata": {
        "id": "tZEs86LzL_12"
      },
      "source": [
        "import numpy as np\n",
        "import matplotlib.pyplot as plt\n",
        "\n",
        "# number of subprocesses to use for data loading\n",
        "num_workers = 1\n",
        "\n",
        "# how many samples per batch to load\n",
        "batch_size = 50\n",
        "\n",
        "# percentage of training set to use as validation\n",
        "valid_size = 0.2\n",
        "\n",
        "# convert data to torch.FloatTensor\n",
        "transform = transforms.ToTensor()\n",
        "\n",
        "# choose the training and testing datasets\n",
        "train_data = datasets.MNIST(root = 'data', train = True, download = True, transform = transform)\n",
        "test_data = datasets.MNIST(root = 'data', train = False, download = True, transform = transform)\n",
        "\n",
        "# obtain training indices that will be used for validation\n",
        "num_train = len(train_data)\n",
        "indices = list(range(num_train))\n",
        "np.random.shuffle(indices)\n",
        "split = int(np.floor(valid_size * num_train))\n",
        "train_index, valid_index = indices[split:], indices[:split]\n",
        "\n",
        "# prepare data loaders\n",
        "train_loader = torch.utils.data.DataLoader(train_data, batch_size = batch_size, num_workers = num_workers)\n",
        "valid_loader = torch.utils.data.DataLoader(train_data, batch_size = batch_size, sampler = torch.utils.data.SubsetRandomSampler(valid_index), num_workers = num_workers)\n",
        "test_loader = torch.utils.data.DataLoader(test_data, batch_size = batch_size, num_workers = num_workers)"
      ],
      "execution_count": null,
      "outputs": []
    },
    {
      "cell_type": "code",
      "metadata": {
        "id": "4pQ1SSssMf3v",
        "colab": {
          "base_uri": "https://localhost:8080/",
          "height": 344
        },
        "outputId": "2b29add0-b2d1-4368-980c-0a6c06cc66d0"
      },
      "source": [
        "#visualize data\n",
        "\n",
        "# obtain one batch of training images\n",
        "dataiter = iter(train_loader)\n",
        "images, labels = next(dataiter)\n",
        "images = images.numpy()\n",
        "\n",
        "# plot the images in the batch, along with the corresponding labels\n",
        "fig = plt.figure(figsize=(25, 4))\n",
        "for idx in np.arange(20):\n",
        "    ax = fig.add_subplot(2, 20//2, idx+1, xticks=[], yticks=[])\n",
        "    ax.imshow(np.squeeze(images[idx]), cmap='gray')\n",
        "    # print out the correct label for each image\n",
        "    # .item() gets the value contained in a Tensor\n",
        "    ax.set_title(str(labels[idx].item()))"
      ],
      "execution_count": null,
      "outputs": [
        {
          "output_type": "display_data",
          "data": {
            "text/plain": [
              "<Figure size 2500x400 with 20 Axes>"
            ],
            "image/png": "[encoded data removed]"
          },
          "metadata": {}
        }
      ]
    },
    {
      "cell_type": "code",
      "metadata": {
        "id": "h1gCz8LVMyVO",
        "colab": {
          "base_uri": "https://localhost:8080/"
        },
        "outputId": "3388d55a-c66f-4ecc-a712-0ec5bc1b153b"
      },
      "source": [
        "# define the model (MLP) architecture\n",
        "import torch.nn as nn\n",
        "import torch.nn.functional as F\n",
        "\n",
        "# define NN architecture\n",
        "class Net(nn.Module):\n",
        "    def __init__(self):\n",
        "        super(Net,self).__init__()\n",
        "\n",
        "        # linear layer (784 -> n_hidden1)\n",
        "        self.fc1 = nn.Linear(28*28, 512)\n",
        "\n",
        "        # linear layer (n_hidden1 -> n_hidden)\n",
        "        self.fc2 = nn.Linear(512,512)\n",
        "\n",
        "        # linear layer (n_hidden -> 10)\n",
        "        self.fc3 = nn.Linear(512,10)\n",
        "\n",
        "\n",
        "    def forward(self,x):\n",
        "        # flatten image input\n",
        "        x = x.view(-1,28*28)\n",
        "\n",
        "        # add hidden layer, with relu activation function\n",
        "        x = F.relu(self.fc1(x))\n",
        "\n",
        "        # add hidden layer, with relu activation function\n",
        "        x = F.relu(self.fc2(x))\n",
        "\n",
        "        # add output layer\n",
        "        x = self.fc3(x)\n",
        "        return x\n",
        "\n",
        "\n",
        "# initialize the NN\n",
        "model = Net()\n",
        "print(model)"
      ],
      "execution_count": null,
      "outputs": [
        {
          "output_type": "stream",
          "name": "stdout",
          "text": [
            "Net(\n",
            "  (fc1): Linear(in_features=784, out_features=512, bias=True)\n",
            "  (fc2): Linear(in_features=512, out_features=512, bias=True)\n",
            "  (fc3): Linear(in_features=512, out_features=10, bias=True)\n",
            ")\n"
          ]
        }
      ]
    },
    {
      "cell_type": "code",
      "metadata": {
        "id": "Rqac9QUpNpKl"
      },
      "source": [
        "# specify loss function (categorical cross-entropy)\n",
        "criterion = nn.CrossEntropyLoss()\n",
        "\n",
        "# specify optimizer (stochastic gradient descent) and learning rate = 0.01\n",
        "optimizer = torch.optim.SGD(model.parameters(),lr = 0.01)"
      ],
      "execution_count": null,
      "outputs": []
    },
    {
      "cell_type": "code",
      "metadata": {
        "id": "EUpno7B-NuQB",
        "colab": {
          "base_uri": "https://localhost:8080/"
        },
        "outputId": "e1b1a335-c4fc-4eb0-ed5f-735d7aa9490c"
      },
      "source": [
        "from tqdm import tqdm\n",
        "\n",
        "# number of epochs to train the model\n",
        "n_epochs = 10\n",
        "\n",
        "# initialize tracker for minimum validation loss\n",
        "valid_loss_min = np.Inf\n",
        "# set initial \"min\" to infinity\n",
        "\n",
        "for epoch in range(n_epochs):\n",
        "    # monitor losses\n",
        "    train_loss = 0\n",
        "    valid_loss = 0\n",
        "\n",
        "    ###################\n",
        "    # training the model #\n",
        "    ###################\n",
        "    model.train() # prep model for training\n",
        "\n",
        "    for data,label in tqdm(train_loader): # (0.8*50000)/50\n",
        "        # clear the gradients of all the variables\n",
        "        optimizer.zero_grad()\n",
        "\n",
        "        # forward pass: compute predicted outputs by passing inputs to the model\n",
        "        output = model(data)\n",
        "\n",
        "        # calculate the loss\n",
        "        loss = criterion(output,label)\n",
        "\n",
        "        # backward pass: compute gradient of the loss with respect to model parameters\n",
        "        loss.backward()\n",
        "\n",
        "        # perform a single optimization step (parameter update)\n",
        "        optimizer.step()\n",
        "\n",
        "        # update running training loss\n",
        "        train_loss += loss.item()* data.size(0)\n",
        "\n",
        "\n",
        "    ######################\n",
        "    # validate the model #\n",
        "    ######################\n",
        "    model.eval()  # prep model for evaluation\n",
        "\n",
        "    for data,label in tqdm(valid_loader): # (0.2*50000)/50\n",
        "\n",
        "        # forward pass: compute predicted outputs by passing inputs to the model\n",
        "        output = model(data)\n",
        "\n",
        "        # calculate the loss\n",
        "        loss = criterion(output,label)\n",
        "\n",
        "        # update running validation loss\n",
        "        valid_loss += loss.item() * data.size(0)\n",
        "\n",
        "    # print training/validation statistics\n",
        "    # calculate average loss over an epoch\n",
        "    train_loss = train_loss / len(train_loader.sampler)\n",
        "    valid_loss = valid_loss / len(valid_loader.sampler)\n",
        "\n",
        "    print('Epoch: {} \\tTraining Loss: {:.6f} \\tValidation Loss: {:.6f}'.format(\n",
        "        epoch+1,\n",
        "        train_loss,\n",
        "        valid_loss\n",
        "        ))\n",
        "\n",
        "    # save model if validation loss has decreased\n",
        "    if valid_loss <= valid_loss_min:\n",
        "        print('Validation loss decreased ({:.6f} --> {:.6f}).  Saving model ...'.format(\n",
        "        valid_loss_min,\n",
        "        valid_loss))\n",
        "        torch.save(model.state_dict(), 'model.pt')\n",
        "        valid_loss_min = valid_loss"
      ],
      "execution_count": null,
      "outputs": [
        {
          "output_type": "stream",
          "name": "stderr",
          "text": [
            "100%|██████████| 1200/1200 [00:16<00:00, 70.76it/s]\n",
            "100%|██████████| 240/240 [00:02<00:00, 91.20it/s]\n"
          ]
        },
        {
          "output_type": "stream",
          "name": "stdout",
          "text": [
            "Epoch: 1 \tTraining Loss: 1.334261 \tValidation Loss: 0.532214\n",
            "Validation loss decreased (inf --> 0.532214).  Saving model ...\n"
          ]
        },
        {
          "output_type": "stream",
          "name": "stderr",
          "text": [
            "100%|██████████| 1200/1200 [00:16<00:00, 73.17it/s]\n",
            "100%|██████████| 240/240 [00:02<00:00, 80.17it/s]\n"
          ]
        },
        {
          "output_type": "stream",
          "name": "stdout",
          "text": [
            "Epoch: 2 \tTraining Loss: 0.426228 \tValidation Loss: 0.368570\n",
            "Validation loss decreased (0.532214 --> 0.368570).  Saving model ...\n"
          ]
        },
        {
          "output_type": "stream",
          "name": "stderr",
          "text": [
            "100%|██████████| 1200/1200 [00:17<00:00, 69.94it/s]\n",
            "100%|██████████| 240/240 [00:02<00:00, 89.03it/s]\n"
          ]
        },
        {
          "output_type": "stream",
          "name": "stdout",
          "text": [
            "Epoch: 3 \tTraining Loss: 0.338364 \tValidation Loss: 0.320906\n",
            "Validation loss decreased (0.368570 --> 0.320906).  Saving model ...\n"
          ]
        },
        {
          "output_type": "stream",
          "name": "stderr",
          "text": [
            "100%|██████████| 1200/1200 [00:16<00:00, 73.73it/s]\n",
            "100%|██████████| 240/240 [00:03<00:00, 72.56it/s]\n"
          ]
        },
        {
          "output_type": "stream",
          "name": "stdout",
          "text": [
            "Epoch: 4 \tTraining Loss: 0.300655 \tValidation Loss: 0.291505\n",
            "Validation loss decreased (0.320906 --> 0.291505).  Saving model ...\n"
          ]
        },
        {
          "output_type": "stream",
          "name": "stderr",
          "text": [
            "100%|██████████| 1200/1200 [00:17<00:00, 69.71it/s]\n",
            "100%|██████████| 240/240 [00:02<00:00, 92.40it/s]\n"
          ]
        },
        {
          "output_type": "stream",
          "name": "stdout",
          "text": [
            "Epoch: 5 \tTraining Loss: 0.274015 \tValidation Loss: 0.268066\n",
            "Validation loss decreased (0.291505 --> 0.268066).  Saving model ...\n"
          ]
        },
        {
          "output_type": "stream",
          "name": "stderr",
          "text": [
            "100%|██████████| 1200/1200 [00:16<00:00, 72.64it/s]\n",
            "100%|██████████| 240/240 [00:02<00:00, 83.90it/s]\n"
          ]
        },
        {
          "output_type": "stream",
          "name": "stdout",
          "text": [
            "Epoch: 6 \tTraining Loss: 0.251843 \tValidation Loss: 0.247823\n",
            "Validation loss decreased (0.268066 --> 0.247823).  Saving model ...\n"
          ]
        },
        {
          "output_type": "stream",
          "name": "stderr",
          "text": [
            "100%|██████████| 1200/1200 [00:17<00:00, 68.56it/s]\n",
            "100%|██████████| 240/240 [00:02<00:00, 90.50it/s]\n"
          ]
        },
        {
          "output_type": "stream",
          "name": "stdout",
          "text": [
            "Epoch: 7 \tTraining Loss: 0.232367 \tValidation Loss: 0.229660\n",
            "Validation loss decreased (0.247823 --> 0.229660).  Saving model ...\n"
          ]
        },
        {
          "output_type": "stream",
          "name": "stderr",
          "text": [
            "100%|██████████| 1200/1200 [00:16<00:00, 72.57it/s]\n",
            "100%|██████████| 240/240 [00:02<00:00, 88.93it/s]\n"
          ]
        },
        {
          "output_type": "stream",
          "name": "stdout",
          "text": [
            "Epoch: 8 \tTraining Loss: 0.214970 \tValidation Loss: 0.213126\n",
            "Validation loss decreased (0.229660 --> 0.213126).  Saving model ...\n"
          ]
        },
        {
          "output_type": "stream",
          "name": "stderr",
          "text": [
            "100%|██████████| 1200/1200 [00:17<00:00, 67.19it/s]\n",
            "100%|██████████| 240/240 [00:02<00:00, 89.24it/s]\n"
          ]
        },
        {
          "output_type": "stream",
          "name": "stdout",
          "text": [
            "Epoch: 9 \tTraining Loss: 0.199485 \tValidation Loss: 0.198234\n",
            "Validation loss decreased (0.213126 --> 0.198234).  Saving model ...\n"
          ]
        },
        {
          "output_type": "stream",
          "name": "stderr",
          "text": [
            "100%|██████████| 1200/1200 [00:16<00:00, 73.36it/s]\n",
            "100%|██████████| 240/240 [00:02<00:00, 88.74it/s]"
          ]
        },
        {
          "output_type": "stream",
          "name": "stdout",
          "text": [
            "Epoch: 10 \tTraining Loss: 0.185623 \tValidation Loss: 0.184850\n",
            "Validation loss decreased (0.198234 --> 0.184850).  Saving model ...\n"
          ]
        },
        {
          "output_type": "stream",
          "name": "stderr",
          "text": [
            "\n"
          ]
        }
      ]
    },
    {
      "cell_type": "code",
      "source": [
        "    ##################\n",
        "    # test the model #\n",
        "    ##################\n",
        "\n",
        "# Load the best model\n",
        "model.load_state_dict(torch.load('model.pt'))\n",
        "model.eval()  # Set the model to evaluation mode\n",
        "\n",
        "# Initialize variables to track test loss and accuracy\n",
        "test_loss = 0.0\n",
        "correct = 0\n",
        "total = 0\n",
        "\n",
        "# Testing the model\n",
        "for data, labels in test_loader:\n",
        "  output = model(data)\n",
        "\n",
        "  loss = criterion(output, labels)\n",
        "  test_loss += loss.item() * data.size(0)\n",
        "\n",
        "  _, preds = torch.max(output, 1)\n",
        "  # Update correct predictions count\n",
        "  correct += (preds == labels).sum().item()\n",
        "  total += labels.size(0)\n",
        "\n",
        "# Calculate average loss and accuracy\n",
        "test_loss = test_loss / total\n",
        "accuracy = correct / total * 100\n",
        "\n",
        "# Print test results\n",
        "print(f'Test Loss: {test_loss:.6f}')\n",
        "print(f'Test Accuracy: {accuracy:.2f}%')\n"
      ],
      "metadata": {
        "id": "mKI6l8a8to-J",
        "colab": {
          "base_uri": "https://localhost:8080/"
        },
        "outputId": "36d79e31-ee2f-4f57-d2cf-d7da1d3af665"
      },
      "execution_count": null,
      "outputs": [
        {
          "output_type": "stream",
          "name": "stderr",
          "text": [
            "<ipython-input-29-2657b84a447a>:6: FutureWarning: You are using `torch.load` with `weights_only=False` (the current default value), which uses the default pickle module implicitly. It is possible to construct malicious pickle data which will execute arbitrary code during unpickling (See https://github.com/pytorch/pytorch/blob/main/SECURITY.md#untrusted-models for more details). In a future release, the default value for `weights_only` will be flipped to `True`. This limits the functions that could be executed during unpickling. Arbitrary objects will no longer be allowed to be loaded via this mode unless they are explicitly allowlisted by the user via `torch.serialization.add_safe_globals`. We recommend you start setting `weights_only=True` for any use case where you don't have full control of the loaded file. Please open an issue on GitHub for any issues related to this experimental feature.\n",
            "  model.load_state_dict(torch.load('model.pt'))\n"
          ]
        },
        {
          "output_type": "stream",
          "name": "stdout",
          "text": [
            "Test Loss: 0.180386\n",
            "Test Accuracy: 94.83%\n"
          ]
        }
      ]
    },
    {
      "cell_type": "code",
      "source": [
        "import random\n",
        "\n",
        "# Get one batch of test data\n",
        "dataiter = iter(test_loader)\n",
        "images, labels = next(dataiter)\n",
        "\n",
        "random_indices = random.sample(range(len(images)), 20)\n",
        "\n",
        "fig = plt.figure(figsize=(25, 8))\n",
        "for idx, random_idx in enumerate(random_indices):\n",
        "    ax = fig.add_subplot(2, 10, idx + 1, xticks=[], yticks=[])\n",
        "    img = images[random_idx].numpy().squeeze()  # Convert to NumPy and squeeze dimensions\n",
        "    ax.imshow(img, cmap='gray')\n",
        "\n",
        "    # Get the true label and predicted label\n",
        "    true_label = labels[random_idx].item()\n",
        "    output = model(images[random_idx].unsqueeze(0))  # Add batch dimension for prediction\n",
        "    _, predicted_label = torch.max(output, 1)\n",
        "\n",
        "    ax.set_title(f\"True: {true_label}\\nPred: {predicted_label.item()}\")\n"
      ],
      "metadata": {
        "colab": {
          "base_uri": "https://localhost:8080/",
          "height": 537
        },
        "id": "1XDYz_HdZ2kr",
        "outputId": "d319bbe3-8203-4ad4-f204-43c1688f9b7e"
      },
      "execution_count": null,
      "outputs": [
        {
          "output_type": "display_data",
          "data": {
            "text/plain": [
              "<Figure size 2500x800 with 20 Axes>"
            ],
            "image/png": "[encoded data removed]"
          },
          "metadata": {}
        }
      ]
    }
  ]
}